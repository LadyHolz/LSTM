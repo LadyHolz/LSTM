{
  "nbformat": 4,
  "nbformat_minor": 0,
  "metadata": {
    "kernelspec": {
      "display_name": "Python 3",
      "language": "python",
      "name": "python3"
    },
    "language_info": {
      "codemirror_mode": {
        "name": "ipython",
        "version": 3
      },
      "file_extension": ".py",
      "mimetype": "text/x-python",
      "name": "python",
      "nbconvert_exporter": "python",
      "pygments_lexer": "ipython3",
      "version": "3.7.9"
    },
    "colab": {
      "name": " 2019 LSTM Lesson Home Working.ipynb",
      "provenance": [],
      "collapsed_sections": []
    },
    "accelerator": "GPU"
  },
  "cells": [
    {
      "cell_type": "markdown",
      "metadata": {
        "id": "WLxBX_XOsYHF"
      },
      "source": [
        "##  Artificial Recurrent Neural Network\n",
        "\n",
        "### The type of algorithm we are using is a Long Short Term Memory (LSTM) \n",
        "#### LSTM is used in the field of deep learning and is an artificial recurrent neural network (RNN)\n",
        "#### Unlike standard feedforward neural networks, LSTM has feedback connections, it is designed to overcome error back-flow problems. it can learn to bridge time internals in excess of 1000 steps\n",
        "\n",
        "#### In this LSTM we are going to predict stock prices for Apple using the past 60 days  of stock prices / update tesla 2021\n"
      ]
    },
    {
      "cell_type": "markdown",
      "metadata": {
        "id": "k21WN9-YsYHK"
      },
      "source": [
        "### As we are using anaconda NumPy, Pandas and Math should already be installed  notes: now using colab.\n",
        "### If you have an issues import them, open terminal and try a pip install:\n",
        "#### pip install Panda   / Data manipulation and Analysis\n",
        "#### pip install python-math\n",
        "#### pip install NumPy  / Mathematicl Operations\n",
        " \n",
        "### You will need to stall the following:\n",
        "\n",
        "#### pip install pandas-datareader  /  no longer working for yahoo stocks\n",
        "#### pip install matplotlib  / Visualization \n",
        "#### pip install keras  / API / library for deep learning model Tensorflow \n",
        "#### pip install -U scikit-learn  / Data Predictive tool \n",
        "#### Minmaxscaler / Transforms each feature \n",
        "#### io / Data Extraction :  unstructured / semi structured into tables \n",
        "#### datetime / Manipulating dates \n",
        "#### import request / allows you to send a http request and returns the object "
      ]
    },
    {
      "cell_type": "code",
      "metadata": {
        "id": "Jh-sTiemsYHL"
      },
      "source": [
        "import math\n",
        "import pandas_datareader \n",
        "import numpy as np\n",
        "import pandas as pd\n",
        "import pandas\n",
        "from sklearn.preprocessing import MinMaxScaler\n",
        "from keras.models import Sequential\n",
        "from keras.layers import Dense, LSTM\n",
        "import matplotlib.pyplot as plt \n",
        "plt.style.use(\"fivethirtyeight\")\n"
      ],
      "execution_count": null,
      "outputs": []
    },
    {
      "cell_type": "code",
      "metadata": {
        "id": "ofyAZCHwukzC"
      },
      "source": [
        "import io\n",
        "from datetime import datetime\n",
        "import requests\n",
        "\n",
        "class YahooData:\n",
        "  def fetch(ticker, start, end):\n",
        "    headers = {\n",
        "        'User-Agent': 'Mozilla/5.0 (Macintosh; Intel Mac OS X 10_11_2) AppleWebKit/601.3.9 (KHTML, like Gecko) Version/9.0.2 Safari/601.3.9'\n",
        "    }\n",
        "\n",
        "    url = \"https://query1.finance.yahoo.com/v7/finance/download/\" + str(ticker)\n",
        "    x = int(datetime.strptime(start, '%Y-%m-%d').strftime(\"%s\"))\n",
        "    y = int(datetime.strptime(end, '%Y-%m-%d').strftime(\"%s\"))\n",
        "    url += \"?period1=\" + str(x) + \"&period2=\" + str(y) + \"&interval=1d&events=history&includeAdjustedClose=true\"\n",
        "    \n",
        "    r = requests.get(url, headers=headers)\n",
        "    pd = pandas.read_csv(io.StringIO(r.text), index_col=0, parse_dates=True)\n",
        "\n",
        "    return pd\n",
        "\n",
        "    #web scrapping"
      ],
      "execution_count": null,
      "outputs": []
    },
    {
      "cell_type": "markdown",
      "metadata": {
        "id": "IEbwBpnHsYHN"
      },
      "source": [
        "## Get the stock data using the web.datareader   amended 12/10/2021 now using data.fetch / io / datatime / requests / yahoo blocked datareader "
      ]
    },
    {
      "cell_type": "code",
      "metadata": {
        "id": "_lX722nDsYHN",
        "colab": {
          "base_uri": "https://localhost:8080/"
        },
        "outputId": "5ba9fe5a-ad5c-479a-87d3-293877dba65f"
      },
      "source": [
        "df = YahooData.fetch(\"TSLA\", start=\"2002-01-01\", end=\"2022-12-31\")\n",
        "print(df)"
      ],
      "execution_count": null,
      "outputs": [
        {
          "output_type": "stream",
          "name": "stdout",
          "text": [
            "                  Open        High         Low       Close   Adj Close  \\\n",
            "Date                                                                     \n",
            "2010-06-29    3.800000    5.000000    3.508000    4.778000    4.778000   \n",
            "2010-06-30    5.158000    6.084000    4.660000    4.766000    4.766000   \n",
            "2010-07-01    5.000000    5.184000    4.054000    4.392000    4.392000   \n",
            "2010-07-02    4.600000    4.620000    3.742000    3.840000    3.840000   \n",
            "2010-07-06    4.000000    4.000000    3.166000    3.222000    3.222000   \n",
            "...                ...         ...         ...         ...         ...   \n",
            "2022-05-09  836.450012  845.630005  781.150024  787.109985  787.109985   \n",
            "2022-05-10  819.309998  825.359985  774.250000  800.039978  800.039978   \n",
            "2022-05-11  795.000000  809.770020  727.200012  734.000000  734.000000   \n",
            "2022-05-12  701.000000  759.659973  680.000000  728.000000  728.000000   \n",
            "2022-05-13  773.479980  787.349976  751.570007  769.590027  769.590027   \n",
            "\n",
            "              Volume  \n",
            "Date                  \n",
            "2010-06-29  93831500  \n",
            "2010-06-30  85935500  \n",
            "2010-07-01  41094000  \n",
            "2010-07-02  25699000  \n",
            "2010-07-06  34334500  \n",
            "...              ...  \n",
            "2022-05-09  30270100  \n",
            "2022-05-10  28133900  \n",
            "2022-05-11  32408200  \n",
            "2022-05-12  46771000  \n",
            "2022-05-13  30651800  \n",
            "\n",
            "[2991 rows x 6 columns]\n"
          ]
        }
      ]
    },
    {
      "cell_type": "markdown",
      "metadata": {
        "id": "ydBe-gZdsYHO"
      },
      "source": [
        "## .Shape will tell us how many rows and columns we have in our data "
      ]
    },
    {
      "cell_type": "code",
      "metadata": {
        "id": "rYIz05GwsYHO",
        "colab": {
          "base_uri": "https://localhost:8080/"
        },
        "outputId": "50dc52dc-abb4-4cf2-be4e-7995cc1a7323"
      },
      "source": [
        "\n",
        "df.shape"
      ],
      "execution_count": null,
      "outputs": [
        {
          "output_type": "execute_result",
          "data": {
            "text/plain": [
              "(2991, 6)"
            ]
          },
          "metadata": {},
          "execution_count": 4
        }
      ]
    },
    {
      "cell_type": "markdown",
      "metadata": {
        "id": "7A0VRKaosYHP"
      },
      "source": [
        "## visualise the closing price history \n",
        "## plt.figure will create a figure of the plot. we selected the style fivethirtyeight with the imports at the begining of the script"
      ]
    },
    {
      "cell_type": "code",
      "metadata": {
        "id": "LmGpk8uxsYHP",
        "colab": {
          "base_uri": "https://localhost:8080/",
          "height": 535
        },
        "outputId": "83bc43ff-1b26-46f6-b6af-0f76e61a80bc"
      },
      "source": [
        "\n",
        "plt.figure(figsize=(16,8))\n",
        "#plt.title will add a title \n",
        "plt.title(\"Close Price History\")\n",
        "#plt plot is used to choose the data we want to use we have called our variable holding our data df and choosen the colunm Close\n",
        "plt.plot(df[\"Close\"])\n",
        "#plt xlabel will add a label to the x axis fontsize with allow use to choose a size\n",
        "plt.xlabel(\"Date\", fontsize=18)\n",
        "plt.ylabel(\"Close Price GBP (£)\", fontsize=18)\n",
        "#plt.show is how to call our plot to display\n",
        "plt.show"
      ],
      "execution_count": null,
      "outputs": [
        {
          "output_type": "execute_result",
          "data": {
            "text/plain": [
              "<function matplotlib.pyplot.show>"
            ]
          },
          "metadata": {},
          "execution_count": 5
        },
        {
          "output_type": "display_data",
          "data": {
            "text/plain": [
              "<Figure size 1152x576 with 1 Axes>"
            ],
            "image/png": "[encoded data removed]"
          },
          "metadata": {
            "needs_background": "light"
          }
        }
      ]
    },
    {
      "cell_type": "markdown",
      "metadata": {
        "id": "wNN4dklusYHQ"
      },
      "source": [
        "## Now we are going to create Data frame that only has the 'close' column showing"
      ]
    },
    {
      "cell_type": "code",
      "metadata": {
        "id": "_9APTKvhsYHR",
        "colab": {
          "base_uri": "https://localhost:8080/"
        },
        "outputId": "c59ea975-6c4c-4561-842d-c6b6d413899a"
      },
      "source": [
        "\n",
        "data = df.filter([\"Close\"])\n",
        "#Convert te dataframe to a numpy array\n",
        "dataset = data.values\n",
        "#Get the number of rows you'd like to train the model on\n",
        "training_data_len = math.ceil(len(dataset) * .8)\n",
        "training_data_len"
      ],
      "execution_count": null,
      "outputs": [
        {
          "output_type": "execute_result",
          "data": {
            "text/plain": [
              "2393"
            ]
          },
          "metadata": {},
          "execution_count": 6
        }
      ]
    },
    {
      "cell_type": "markdown",
      "metadata": {
        "id": "I56hDZMpsYHR"
      },
      "source": [
        "### Now we are going to scale the data.  \n",
        "\n",
        "#### scaling is a method used to normalize the range of independent variables or features of data. In data processing, it is also known as data normalization and is generally performed during the data preprocessing step."
      ]
    },
    {
      "cell_type": "code",
      "metadata": {
        "id": "jCNN1W7esYHS",
        "colab": {
          "base_uri": "https://localhost:8080/"
        },
        "outputId": "83352484-14ad-4dfd-c1fb-b69f09fa319c"
      },
      "source": [
        "scaler = MinMaxScaler(feature_range=(0,1))\n",
        "# we will now create a varible to hold the scaled dataset, Our data will be transformed between the values of 0 and 1\n",
        "scaled_data = scaler.fit_transform(dataset)\n",
        "# show scaled_data\n",
        "scaled_data"
      ],
      "execution_count": null,
      "outputs": [
        {
          "output_type": "execute_result",
          "data": {
            "text/plain": [
              "array([[0.00131893],\n",
              "       [0.00130915],\n",
              "       [0.00100428],\n",
              "       ...,\n",
              "       [0.59575299],\n",
              "       [0.59086202],\n",
              "       [0.62476463]])"
            ]
          },
          "metadata": {},
          "execution_count": 7
        }
      ]
    },
    {
      "cell_type": "markdown",
      "metadata": {
        "id": "RipdRV2psYHS"
      },
      "source": [
        "## We are going to create the training dataset "
      ]
    },
    {
      "cell_type": "code",
      "metadata": {
        "id": "_EmP7lH4sYHS",
        "colab": {
          "base_uri": "https://localhost:8080/"
        },
        "outputId": "cbc69dd8-ac8d-4ca4-c4d1-8dcd5852fe0c"
      },
      "source": [
        "#we are fetching the values from index 0.\n",
        "train_data = scaled_data[0:training_data_len, :]\n",
        "#split the data in to X and Y.  The x and y will be empty : x is indepenpdant traing set, y is the dependant \n",
        "x_train =[]\n",
        "y_train =[]\n",
        "# we are now appending the data for training_data. the x train will append from 0 to 60 (as python is zero indexed this will 0 to 59)\n",
        "for i in range(60, len(train_data)):\n",
        "    x_train.append(train_data[i-60:i, 0])\n",
        "    y_train.append(train_data[i,0])\n",
        "    if i<=60:\n",
        "        print(x_train)\n",
        "        print(y_train)\n",
        "        print()\n",
        "    \n",
        "\n",
        "# below we have x_train dataset followed by the single y_train value of 61"
      ],
      "execution_count": null,
      "outputs": [
        {
          "output_type": "stream",
          "name": "stdout",
          "text": [
            "[array([1.31893210e-03, 1.30915016e-03, 1.00427957e-03, 5.54310154e-04,\n",
            "       5.05400434e-05, 0.00000000e+00, 2.70633781e-04, 2.60851837e-04,\n",
            "       2.03790498e-04, 3.81495812e-04, 6.58650889e-04, 6.66802509e-04,\n",
            "       7.89076807e-04, 9.96127953e-04, 7.33645792e-04, 7.20603200e-04,\n",
            "       8.47768470e-04, 8.95047866e-04, 8.39616851e-04, 7.74403891e-04,\n",
            "       8.02119399e-04, 7.41797412e-04, 6.74954128e-04, 8.34725879e-04,\n",
            "       1.00264925e-03, 8.90156894e-04, 7.58100651e-04, 6.17892789e-04,\n",
            "       6.19523113e-04, 5.26594646e-04, 3.42368036e-04, 2.93458317e-04,\n",
            "       4.10841643e-04, 4.85836547e-04, 5.46158534e-04, 4.84206223e-04,\n",
            "       4.87466871e-04, 5.38006914e-04, 7.05930284e-04, 5.54310154e-04,\n",
            "       6.68432833e-04, 6.43977973e-04, 6.35826353e-04, 6.63541861e-04,\n",
            "       5.99959225e-04, 7.58100651e-04, 8.57550414e-04, 8.55920090e-04,\n",
            "       7.72773567e-04, 8.31465231e-04, 8.00489075e-04, 7.12451580e-04,\n",
            "       8.02119399e-04, 8.67332358e-04, 1.00754022e-03, 8.37986527e-04,\n",
            "       7.22233524e-04, 8.57550414e-04, 8.10271019e-04, 6.63541861e-04])]\n",
            "[0.0006130018171248731]\n",
            "\n"
          ]
        }
      ]
    },
    {
      "cell_type": "markdown",
      "metadata": {
        "id": "KfdKG6Y8sYHT"
      },
      "source": [
        "### Next we convert the X and Y training dataset into Numpy arrays so will can train our Lstm"
      ]
    },
    {
      "cell_type": "code",
      "metadata": {
        "id": "i0BR8aTAsYHT"
      },
      "source": [
        "x_train, y_train = np.array(x_train), np.array(y_train)"
      ],
      "execution_count": null,
      "outputs": []
    },
    {
      "cell_type": "code",
      "metadata": {
        "id": "VByjOs4TsYHT",
        "colab": {
          "base_uri": "https://localhost:8080/"
        },
        "outputId": "3770fa4a-a157-48c3-86e3-95caa08c37dd"
      },
      "source": [
        "#we will now reshape the x_train dataset\n",
        "#we need to reshape to 3 dimentional as LSTM model won't run on 2 dimentional \n",
        "#below show the 2 dimentional shape\n",
        "x_train.shape"
      ],
      "execution_count": null,
      "outputs": [
        {
          "output_type": "execute_result",
          "data": {
            "text/plain": [
              "(2333, 60)"
            ]
          },
          "metadata": {},
          "execution_count": 10
        }
      ]
    },
    {
      "cell_type": "code",
      "metadata": {
        "id": "gbq37URQsYHU",
        "colab": {
          "base_uri": "https://localhost:8080/"
        },
        "outputId": "e50a160f-82c8-4b4c-c614-4a18fa715614"
      },
      "source": [
        "#to reshape the data  I have sample 1752,(your data set will be diffent use your x_train.shape figure)\n",
        "#time steps (colunms) 60, 1\n",
        "x_train = np.reshape(x_train, (x_train.shape[0], x_train.shape[1], 1))\n",
        "#check the shape\n",
        "x_train.shape"
      ],
      "execution_count": null,
      "outputs": [
        {
          "output_type": "execute_result",
          "data": {
            "text/plain": [
              "(2333, 60, 1)"
            ]
          },
          "metadata": {},
          "execution_count": 11
        }
      ]
    },
    {
      "cell_type": "markdown",
      "metadata": {
        "id": "ZrZboGissYHU"
      },
      "source": [
        "## Now we build the LSTM Model"
      ]
    },
    {
      "cell_type": "code",
      "metadata": {
        "id": "4T_BtWuJsYHU"
      },
      "source": [
        "model = Sequential()\n",
        "model.add(LSTM(50, return_sequences=True, input_shape= (x_train.shape[1], 1)))\n",
        "model.add(LSTM(50, return_sequences= False))\n",
        "model.add(Dense(25))\n",
        "model.add(Dense(1))"
      ],
      "execution_count": null,
      "outputs": []
    },
    {
      "cell_type": "code",
      "metadata": {
        "id": "l7f2lp7esYHU"
      },
      "source": [
        "#compile the model\n",
        "\n",
        "model.compile(optimizer='adam', loss='mean_squared_error')"
      ],
      "execution_count": null,
      "outputs": []
    },
    {
      "cell_type": "code",
      "metadata": {
        "id": "a190uYmxsYHV",
        "colab": {
          "base_uri": "https://localhost:8080/"
        },
        "outputId": "951748fc-f9fe-4109-d425-98dd912ad064"
      },
      "source": [
        "#train the model\n",
        "model.fit(x_train, y_train, batch_size=1, epochs=1)"
      ],
      "execution_count": null,
      "outputs": [
        {
          "output_type": "stream",
          "name": "stdout",
          "text": [
            "2333/2333 [==============================] - 57s 20ms/step - loss: 2.8145e-05\n"
          ]
        },
        {
          "output_type": "execute_result",
          "data": {
            "text/plain": [
              "<keras.callbacks.History at 0x7f9a4c4b90d0>"
            ]
          },
          "metadata": {},
          "execution_count": 14
        }
      ]
    },
    {
      "cell_type": "code",
      "metadata": {
        "id": "g6dMjVf1sYHV"
      },
      "source": [
        "#create the test data set\n",
        "#create an array\n",
        "test_data = scaled_data[training_data_len - 60: , :]\n",
        "#create the data test x_test y_test\n",
        "x_test =[]\n",
        "Y_test = dataset[training_data_len:, :]\n",
        "for i in range(60, len(test_data)):\n",
        "    x_test.append(test_data[i-60:i, 0])"
      ],
      "execution_count": null,
      "outputs": []
    },
    {
      "cell_type": "code",
      "metadata": {
        "id": "ezjXloT3sYHV"
      },
      "source": [
        "#convert the data to a Numpy array\n",
        "x_test = np.array(x_test)"
      ],
      "execution_count": null,
      "outputs": []
    },
    {
      "cell_type": "code",
      "metadata": {
        "id": "BzY1VlCIsYHV"
      },
      "source": [
        "#reshape to 3 dimensional shape. features, time step and columns\n",
        "x_test = np.reshape(x_test, (x_test.shape[0], x_test.shape[1], 1))\n",
        "\n"
      ],
      "execution_count": null,
      "outputs": []
    },
    {
      "cell_type": "code",
      "metadata": {
        "id": "KkeTZtJXsYHW"
      },
      "source": [
        "#predicted price values / we are undoing the previous scaler\n",
        "predictions = model.predict(x_test)\n",
        "predictions = scaler.inverse_transform(predictions)"
      ],
      "execution_count": null,
      "outputs": []
    },
    {
      "cell_type": "code",
      "metadata": {
        "id": "io3J-uFWsYHW",
        "colab": {
          "base_uri": "https://localhost:8080/"
        },
        "outputId": "7e3707f9-8f9f-41af-e9db-caf41a08ab79"
      },
      "source": [
        "#evaluate the model.  get the root mean squared error (RMSE)\n",
        "rmse = np.sqrt(np.mean(predictions - Y_test)**2)\n",
        "rmse\n",
        "\n",
        "#Usually, a RMSE score of less than 180 is considered a\n",
        "#good score for a moderately or well working algorithm. In case,\n",
        "#the RMSE value exceeds 180, we need to perform feature \n",
        "#selection and hyper parameter tuning on the parameters of the model."
      ],
      "execution_count": null,
      "outputs": [
        {
          "output_type": "execute_result",
          "data": {
            "text/plain": [
              "53.400233169182926"
            ]
          },
          "metadata": {},
          "execution_count": 19
        }
      ]
    },
    {
      "cell_type": "code",
      "metadata": {
        "id": "7U6pgWHUsYHW",
        "colab": {
          "base_uri": "https://localhost:8080/",
          "height": 640
        },
        "outputId": "78aacb82-c875-4d9f-c914-bbfe7bb5ea6d"
      },
      "source": [
        "#plot the data\n",
        "train = data[:training_data_len]\n",
        "valid = data[training_data_len:]\n",
        "valid['predictions'] = predictions\n",
        "#vistualise the data\n",
        "plt.figure(figsize=(16,8))\n",
        "plt.title('Model')\n",
        "plt.xlabel('Date', fontsize=18)\n",
        "plt.ylabel('Close price GDP (£)', fontsize=18)\n",
        "plt.plot(train['Close'])\n",
        "plt.plot(valid[['Close', 'predictions']])\n",
        "plt.legend(['Training Data', 'Actual Value', 'predictions'], loc='lower right')\n",
        "               \n",
        "               "
      ],
      "execution_count": null,
      "outputs": [
        {
          "output_type": "stream",
          "name": "stderr",
          "text": [
            "/usr/local/lib/python3.7/dist-packages/ipykernel_launcher.py:4: SettingWithCopyWarning: \n",
            "A value is trying to be set on a copy of a slice from a DataFrame.\n",
            "Try using .loc[row_indexer,col_indexer] = value instead\n",
            "\n",
            "See the caveats in the documentation: https://pandas.pydata.org/pandas-docs/stable/user_guide/indexing.html#returning-a-view-versus-a-copy\n",
            "  after removing the cwd from sys.path.\n"
          ]
        },
        {
          "output_type": "execute_result",
          "data": {
            "text/plain": [
              "<matplotlib.legend.Legend at 0x7f99d2ae2f90>"
            ]
          },
          "metadata": {},
          "execution_count": 20
        },
        {
          "output_type": "display_data",
          "data": {
            "text/plain": [
              "<Figure size 1152x576 with 1 Axes>"
            ],
            "image/png": "[encoded data removed]"
          },
          "metadata": {
            "needs_background": "light"
          }
        }
      ]
    }
  ]
}